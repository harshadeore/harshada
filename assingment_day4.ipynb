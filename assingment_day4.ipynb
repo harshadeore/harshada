{
 "cells": [
  {
   "cell_type": "code",
   "execution_count": null,
   "metadata": {},
   "outputs": [],
   "source": []
  },
  {
   "cell_type": "code",
   "execution_count": null,
   "metadata": {},
   "outputs": [],
   "source": [
    "#multiplication ,substraction,divition using  input value"
   ]
  },
  {
   "cell_type": "code",
   "execution_count": 4,
   "metadata": {},
   "outputs": [
    {
     "name": "stdout",
     "output_type": "stream",
     "text": [
      "enrer the first no23\n",
      "enrer the second no3\n",
      "difference of 23 and 3 is 20\n",
      "multiplication of 23 and 3 is 69\n",
      "division of 23 and 3 is 7.666666666666667\n"
     ]
    }
   ],
   "source": [
    "num1 = int(input('enrer the first no'))\n",
    "num2 = int(input('enrer the second no'))\n",
    "dif = num1 - num2\n",
    "mul = num1 * num2\n",
    "div = num1 / num2\n",
    "print('difference of',num1,'and',num2,'is',dif)\n",
    "print('multiplication of',num1,'and',num2,'is',mul)\n",
    "print('division of',num1,'and',num2,'is',div)"
   ]
  },
  {
   "cell_type": "code",
   "execution_count": null,
   "metadata": {},
   "outputs": [],
   "source": []
  },
  {
   "cell_type": "code",
   "execution_count": null,
   "metadata": {},
   "outputs": [],
   "source": [
    "#multiplication ,substraction,divition without input value"
   ]
  },
  {
   "cell_type": "code",
   "execution_count": 3,
   "metadata": {},
   "outputs": [
    {
     "name": "stdout",
     "output_type": "stream",
     "text": [
      "the difference of 5 and 2 is 3\n",
      "the multiplication of 5 and 2 is 10\n",
      "the division of 5 and 2 is 2.5\n"
     ]
    }
   ],
   "source": [
    "num1 = 5\n",
    "num2 = 2\n",
    "dif = num1 - num2\n",
    "mul = num1 * num2\n",
    "div = num1 / num2\n",
    "print('the difference of {0} and {1} is {2}'.format(num1,num2,dif))\n",
    "print('the multiplication of {0} and {1} is {2}'.format(num1,num2,mul))\n",
    "print('the division of {0} and {1} is {2}'.format(num1,num2,div))"
   ]
  },
  {
   "cell_type": "code",
   "execution_count": null,
   "metadata": {},
   "outputs": [],
   "source": []
  },
  {
   "cell_type": "code",
   "execution_count": null,
   "metadata": {},
   "outputs": [],
   "source": []
  },
  {
   "cell_type": "code",
   "execution_count": null,
   "metadata": {},
   "outputs": [],
   "source": [
    "#float value mul,sub,div, without input value"
   ]
  },
  {
   "cell_type": "code",
   "execution_count": 5,
   "metadata": {},
   "outputs": [
    {
     "name": "stdout",
     "output_type": "stream",
     "text": [
      "the difference of 5.3 and 12.4 is -7.1000000000000005\n",
      "the multiplication of 5.3 and 12.4 is 65.72\n",
      "the division of 5.3 and 12.4 is 0.42741935483870963\n"
     ]
    }
   ],
   "source": [
    "num1 = 5.30\n",
    "num2 = 12.4\n",
    "dif = num1 - num2\n",
    "mul = num1 * num2\n",
    "div = num1 / num2\n",
    "print('the difference of {0} and {1} is {2}'.format(num1,num2,dif))\n",
    "print('the multiplication of {0} and {1} is {2}'.format(num1,num2,mul))\n",
    "print('the division of {0} and {1} is {2}'.format(num1,num2,div))"
   ]
  },
  {
   "cell_type": "code",
   "execution_count": null,
   "metadata": {},
   "outputs": [],
   "source": []
  },
  {
   "cell_type": "code",
   "execution_count": null,
   "metadata": {},
   "outputs": [],
   "source": [
    "#float  value mul,sub,div, using input value"
   ]
  },
  {
   "cell_type": "code",
   "execution_count": 7,
   "metadata": {},
   "outputs": [
    {
     "name": "stdout",
     "output_type": "stream",
     "text": [
      "enrer the first no3.34\n",
      "enrer the second no2.9\n",
      "0.43999999999999995\n",
      "9.686\n",
      "1.1517241379310346\n"
     ]
    }
   ],
   "source": [
    "num1 = input('enrer the first no')\n",
    "num2 = input('enrer the second no')\n",
    "dif = float(num1) - float(num2)\n",
    "mul = float(num1) * float(num2)\n",
    "div = float(num1) / float(num2)\n",
    "print(dif)\n",
    "print(mul)\n",
    "print(div)"
   ]
  },
  {
   "cell_type": "code",
   "execution_count": null,
   "metadata": {},
   "outputs": [],
   "source": []
  },
  {
   "cell_type": "code",
   "execution_count": null,
   "metadata": {},
   "outputs": [],
   "source": [
    "#given sentence of each string first latter capital"
   ]
  },
  {
   "cell_type": "code",
   "execution_count": 8,
   "metadata": {},
   "outputs": [],
   "source": [
    "sentence = 'hello to all welcome to the world of python and let us all come together to learn new languageprint'"
   ]
  },
  {
   "cell_type": "code",
   "execution_count": 9,
   "metadata": {},
   "outputs": [
    {
     "name": "stdout",
     "output_type": "stream",
     "text": [
      "hello to all welcome to the world of python and let us all come together to learn new languageprint\n"
     ]
    }
   ],
   "source": [
    "print(sentence)"
   ]
  },
  {
   "cell_type": "code",
   "execution_count": 10,
   "metadata": {},
   "outputs": [
    {
     "name": "stdout",
     "output_type": "stream",
     "text": [
      "Hello To All Welcome To The World Of Python And Let Us All Come Together To Learn New Languageprint\n"
     ]
    }
   ],
   "source": [
    "print(sentence.title())"
   ]
  },
  {
   "cell_type": "code",
   "execution_count": null,
   "metadata": {},
   "outputs": [],
   "source": []
  },
  {
   "cell_type": "code",
   "execution_count": 11,
   "metadata": {},
   "outputs": [],
   "source": [
    "#sort string in aplphabetical order"
   ]
  },
  {
   "cell_type": "raw",
   "metadata": {},
   "source": []
  },
  {
   "cell_type": "code",
   "execution_count": 20,
   "metadata": {},
   "outputs": [
    {
     "name": "stdout",
     "output_type": "stream",
     "text": [
      "enter the string\n",
      "h a b c d\n",
      "the words in alphabetical order\n",
      "a\n",
      "b\n",
      "c\n",
      "d\n",
      "h\n"
     ]
    }
   ],
   "source": [
    "my_string = input(\"enter the string\\n\")\n",
    "splitwords = my_string.split()\n",
    "splitwords.sort()\n",
    "print(\"the words in alphabetical order\")\n",
    "for word in splitwords:\n",
    "    print(word)"
   ]
  },
  {
   "cell_type": "markdown",
   "metadata": {},
   "source": []
  },
  {
   "cell_type": "code",
   "execution_count": null,
   "metadata": {},
   "outputs": [],
   "source": [
    "#print greatest two no using the built-in function"
   ]
  },
  {
   "cell_type": "code",
   "execution_count": 19,
   "metadata": {},
   "outputs": [
    {
     "name": "stdout",
     "output_type": "stream",
     "text": [
      "enter the first no76\n",
      "enter the second no43\n",
      "76 is greater\n"
     ]
    }
   ],
   "source": [
    "num1 = int(input(\"enter the first no\"))\n",
    "num2 = int(input(\"enter the second no\"))\n",
    "print(max(num1 , num2),\"is greater\")"
   ]
  },
  {
   "cell_type": "code",
   "execution_count": 20,
   "metadata": {},
   "outputs": [],
   "source": [
    "#print greatest tw no using if else statement"
   ]
  },
  {
   "cell_type": "code",
   "execution_count": null,
   "metadata": {},
   "outputs": [],
   "source": []
  },
  {
   "cell_type": "code",
   "execution_count": 9,
   "metadata": {},
   "outputs": [
    {
     "name": "stdout",
     "output_type": "stream",
     "text": [
      "enter the first no:-6\n",
      "enter the second no:-5\n",
      "6.0 is greater\n"
     ]
    }
   ],
   "source": [
    "a = float(input(\"enter the first no:-\"))\n",
    "b = float(input(\"enter the second no:-\"))\n",
    "if(a > b):\n",
    "    print(a,\"is greater\")\n",
    "elif(b > a):\n",
    "    print(b,\"is greater\")\n",
    "else:\n",
    "    print(\"both equal\")"
   ]
  },
  {
   "cell_type": "code",
   "execution_count": null,
   "metadata": {},
   "outputs": [],
   "source": []
  },
  {
   "cell_type": "raw",
   "metadata": {},
   "source": [
    "#find the largest among three numbers"
   ]
  },
  {
   "cell_type": "code",
   "execution_count": 18,
   "metadata": {},
   "outputs": [
    {
     "name": "stdout",
     "output_type": "stream",
     "text": [
      "enter the first no:-67\n",
      "enter the second no:-8\n",
      "enter the third no:-98\n",
      "the largest no is 98.0\n"
     ]
    }
   ],
   "source": [
    "num1 = float(input(\"enter the first no:-\"))\n",
    "num2 = float(input(\"enter the second no:-\"))\n",
    "num3 = float(input(\"enter the third no:-\"))\n",
    "if (num1 >= num2) and (num1 >= num3):\n",
    "    largest = num1\n",
    "elif (num2 >= num1) and (num2 >= num3):\n",
    "    largest = num2\n",
    "else:\n",
    "    largest = num3\n",
    "    \n",
    "print(\"the largest no is\", largest)"
   ]
  },
  {
   "cell_type": "code",
   "execution_count": null,
   "metadata": {},
   "outputs": [],
   "source": []
  },
  {
   "cell_type": "code",
   "execution_count": 21,
   "metadata": {},
   "outputs": [],
   "source": [
    "#swaping two no  "
   ]
  },
  {
   "cell_type": "code",
   "execution_count": 22,
   "metadata": {},
   "outputs": [
    {
     "name": "stdout",
     "output_type": "stream",
     "text": [
      "enter value x:65\n",
      "enter value y:87\n",
      "the value of x after swapping: 87\n",
      "the value of y after swapping: 65\n"
     ]
    }
   ],
   "source": [
    "x = input('enter value x:')\n",
    "y = input('enter value y:')\n",
    "temp = x\n",
    "x = y\n",
    "y = temp\n",
    "print('the value of x after swapping: {}'.format(x))\n",
    "print('the value of y after swapping: {}'.format(y))"
   ]
  },
  {
   "cell_type": "code",
   "execution_count": null,
   "metadata": {},
   "outputs": [],
   "source": []
  },
  {
   "cell_type": "code",
   "execution_count": 23,
   "metadata": {},
   "outputs": [],
   "source": [
    "#draw square "
   ]
  },
  {
   "cell_type": "code",
   "execution_count": null,
   "metadata": {},
   "outputs": [],
   "source": []
  },
  {
   "cell_type": "code",
   "execution_count": 34,
   "metadata": {},
   "outputs": [
    {
     "name": "stdout",
     "output_type": "stream",
     "text": [
      "H H H H H H H\n",
      "H H H H H H H\n",
      "H H H H H H H\n",
      "H H H H H H H\n",
      "H H H H H H H\n",
      "H H H H H H H\n",
      "H H H H H H H\n"
     ]
    }
   ],
   "source": [
    "print(\"H H H H H H H\\nH H H H H H H\\nH H H H H H H\\nH H H H H H H\\nH H H H H H H\\nH H H H H H H\\nH H H H H H H\")           "
   ]
  },
  {
   "cell_type": "code",
   "execution_count": null,
   "metadata": {},
   "outputs": [],
   "source": []
  },
  {
   "cell_type": "code",
   "execution_count": null,
   "metadata": {},
   "outputs": [],
   "source": []
  },
  {
   "cell_type": "code",
   "execution_count": null,
   "metadata": {},
   "outputs": [],
   "source": []
  },
  {
   "cell_type": "code",
   "execution_count": null,
   "metadata": {},
   "outputs": [],
   "source": []
  }
 ],
 "metadata": {
  "kernelspec": {
   "display_name": "Python 3",
   "language": "python",
   "name": "python3"
  },
  "language_info": {
   "codemirror_mode": {
    "name": "ipython",
    "version": 3
   },
   "file_extension": ".py",
   "mimetype": "text/x-python",
   "name": "python",
   "nbconvert_exporter": "python",
   "pygments_lexer": "ipython3",
   "version": "3.8.5"
  }
 },
 "nbformat": 4,
 "nbformat_minor": 4
}
